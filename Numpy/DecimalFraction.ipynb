{
 "cells": [
  {
   "cell_type": "code",
   "execution_count": 1,
   "metadata": {},
   "outputs": [],
   "source": [
    "from decimal import Decimal, getcontext\n",
    "from fractions import Fraction\n",
    "import numpy as np"
   ]
  },
  {
   "cell_type": "markdown",
   "metadata": {},
   "source": [
    "Часто встречаются ситуации, когда, казалось бы, элементарные операции с числами с плавающей точкой дают неожиданные результаты. Классический пример: вычисление суммы. Простая сумма двух чисел с плавающей точкой может дать неверный результат. При увеличении количества чисел операция суммирования становится еще и некоммутативной.\n",
    "См., например, https://habr.com/ru/post/526000/"
   ]
  },
  {
   "cell_type": "code",
   "execution_count": 2,
   "metadata": {},
   "outputs": [
    {
     "data": {
      "text/plain": [
       "False"
      ]
     },
     "execution_count": 2,
     "metadata": {},
     "output_type": "execute_result"
    }
   ],
   "source": [
    "0.1 + 0.2 == 0.3"
   ]
  },
  {
   "cell_type": "markdown",
   "metadata": {},
   "source": [
    "Для сверхточных вычислений простых числовых функций в python есть два модуля стандартной библиотеки: \n",
    "1. `decimal`, где реализованы числа с фиксированной точкой и произвольной точностью.\n",
    "2. `fractions`, где реализованы рациональные числа"
   ]
  },
  {
   "cell_type": "markdown",
   "metadata": {},
   "source": [
    "### Числа с фиксированной точкой\n",
    "Числа типа `Decimal` могут быть инициализированы с произвольной точностью из `float` или строки и лишены недостатков чисел с плавающей точкой, связанных с двоичным представлением. Если инициализировать `Decimal` из строки, то количество знаков фиксируется вводом:"
   ]
  },
  {
   "cell_type": "code",
   "execution_count": 3,
   "metadata": {},
   "outputs": [
    {
     "data": {
      "text/plain": [
       "Decimal('0.3')"
      ]
     },
     "execution_count": 3,
     "metadata": {},
     "output_type": "execute_result"
    }
   ],
   "source": [
    "Decimal('0.1') + Decimal('0.2')"
   ]
  },
  {
   "cell_type": "markdown",
   "metadata": {},
   "source": [
    "Иначе могут быть не совсем корректные результаты, так как идет преобразование из типа `float`, которые могут быть определены неточно:"
   ]
  },
  {
   "cell_type": "code",
   "execution_count": 4,
   "metadata": {},
   "outputs": [
    {
     "data": {
      "text/plain": [
       "Decimal('0.3000000000000000166533453694')"
      ]
     },
     "execution_count": 4,
     "metadata": {},
     "output_type": "execute_result"
    }
   ],
   "source": [
    "Decimal(0.1) + Decimal(0.2)"
   ]
  },
  {
   "cell_type": "markdown",
   "metadata": {},
   "source": [
    "Для управления точностью вычислений есть функция `decimal.getcontext()`"
   ]
  },
  {
   "cell_type": "code",
   "execution_count": 5,
   "metadata": {},
   "outputs": [
    {
     "data": {
      "text/plain": [
       "Context(prec=8, rounding=ROUND_HALF_EVEN, Emin=-999999, Emax=999999, capitals=1, clamp=0, flags=[Inexact, FloatOperation, Rounded], traps=[InvalidOperation, DivisionByZero, Overflow])"
      ]
     },
     "execution_count": 5,
     "metadata": {},
     "output_type": "execute_result"
    }
   ],
   "source": [
    "getcontext().prec = 8 # Точность в десятичных знаках после запятой\n",
    "getcontext()"
   ]
  },
  {
   "cell_type": "markdown",
   "metadata": {},
   "source": [
    "И вот уже ненужные знаки после запятой отсечены"
   ]
  },
  {
   "cell_type": "code",
   "execution_count": 6,
   "metadata": {},
   "outputs": [
    {
     "data": {
      "text/plain": [
       "Decimal('0.30000000')"
      ]
     },
     "execution_count": 6,
     "metadata": {},
     "output_type": "execute_result"
    }
   ],
   "source": [
    "Decimal(0.1) + Decimal(0.2)"
   ]
  },
  {
   "cell_type": "markdown",
   "metadata": {},
   "source": [
    "### Рациональные числа\n",
    "Рациональные числа, то есть числа, выражаемые через отношение целого и натурального чисел, полезны при хранении дробных чисел с конечной точностью и выполнения с ними различных арифметических операций без потери точности. Может быть задана через строку, `float` или `Decimal`"
   ]
  },
  {
   "cell_type": "code",
   "execution_count": 7,
   "metadata": {},
   "outputs": [
    {
     "data": {
      "text/plain": [
       "(Fraction(1, 2), Fraction(1, 2), Fraction(1, 2))"
      ]
     },
     "execution_count": 7,
     "metadata": {},
     "output_type": "execute_result"
    }
   ],
   "source": [
    "Fraction(Decimal('0.5')), Fraction('0.5'), Fraction(0.5)"
   ]
  },
  {
   "cell_type": "markdown",
   "metadata": {},
   "source": [
    "### Интеграция с `numpy`\n",
    "Для работы с числами удобно пользоваться массивами `numpy`, в которые с определенными ограничениями можно интегрировать и `Fraction`, и `Decimal`. Сначала разберем, что сделать не получится. Не получится воспользоваться аргументом `dtype` и прямым преобразованием типов:"
   ]
  },
  {
   "cell_type": "code",
   "execution_count": 8,
   "metadata": {},
   "outputs": [
    {
     "data": {
      "text/plain": [
       "False"
      ]
     },
     "execution_count": 8,
     "metadata": {},
     "output_type": "execute_result"
    }
   ],
   "source": [
    "type(np.ones(10, dtype=Decimal)[0]) == Decimal"
   ]
  },
  {
   "cell_type": "code",
   "execution_count": 9,
   "metadata": {},
   "outputs": [
    {
     "data": {
      "text/plain": [
       "False"
      ]
     },
     "execution_count": 9,
     "metadata": {},
     "output_type": "execute_result"
    }
   ],
   "source": [
    "type(np.ones(10).astype(Fraction)[0]) == Fraction"
   ]
  },
  {
   "cell_type": "markdown",
   "metadata": {},
   "source": [
    "Есть универсальный метод создания массивов с нужным типом на основе поэлементного применения соответствующих преобразований типов:"
   ]
  },
  {
   "cell_type": "code",
   "execution_count": 10,
   "metadata": {},
   "outputs": [
    {
     "data": {
      "text/plain": [
       "array([Decimal('1'), Decimal('1'), Decimal('1'), Decimal('1'),\n",
       "       Decimal('1'), Decimal('1'), Decimal('1'), Decimal('1'),\n",
       "       Decimal('1'), Decimal('1')], dtype=object)"
      ]
     },
     "execution_count": 10,
     "metadata": {},
     "output_type": "execute_result"
    }
   ],
   "source": [
    "test_array1 = np.asarray([Decimal(x) for x in np.ones(10)])\n",
    "test_array1"
   ]
  },
  {
   "cell_type": "markdown",
   "metadata": {},
   "source": [
    "То же самое можно сделать, создав векторизованную функцию с помощью декоратора `np.vectorize`:"
   ]
  },
  {
   "cell_type": "code",
   "execution_count": 11,
   "metadata": {},
   "outputs": [
    {
     "data": {
      "text/plain": [
       "array([Decimal('1'), Decimal('1'), Decimal('1'), Decimal('1'),\n",
       "       Decimal('1'), Decimal('1'), Decimal('1'), Decimal('1'),\n",
       "       Decimal('1'), Decimal('1')], dtype=object)"
      ]
     },
     "execution_count": 11,
     "metadata": {},
     "output_type": "execute_result"
    }
   ],
   "source": [
    "@np.vectorize\n",
    "def float2decimal(x):\n",
    "    return Decimal(x)\n",
    "\n",
    "test_array2 = float2decimal(np.ones(10))\n",
    "test_array2"
   ]
  },
  {
   "cell_type": "markdown",
   "metadata": {},
   "source": [
    "Для рациональных чисел есть еще один трюк, работающий с массивами в целых числах, основанный на том факте, что определен результат сложения целого и рационального чисел:"
   ]
  },
  {
   "cell_type": "code",
   "execution_count": 12,
   "metadata": {},
   "outputs": [
    {
     "data": {
      "text/plain": [
       "array([Fraction(1, 1), Fraction(1, 1), Fraction(1, 1), Fraction(1, 1),\n",
       "       Fraction(1, 1), Fraction(1, 1), Fraction(1, 1), Fraction(1, 1),\n",
       "       Fraction(1, 1), Fraction(1, 1)], dtype=object)"
      ]
     },
     "execution_count": 12,
     "metadata": {},
     "output_type": "execute_result"
    }
   ],
   "source": [
    "np.ones(10, dtype=int) + Fraction()"
   ]
  },
  {
   "cell_type": "markdown",
   "metadata": {},
   "source": [
    "### Математические операции с `Decimal` и `Fraction`\n",
    "Для этих типов чисел отсутствуют многие стандартные, например, тригонометрические, функции. Функции `numpy` не работают вовсе, функции из стандартной библиотеки `math` возвращают `float`. Также понятно, что тригонометрические и многие другие иррациональные функции не могут быть реализованы для `Fraction`.\n",
    "Полный набор реализованных функций можно посмотреть в официальной документации:\n",
    "1. https://docs.python.org/3/library/decimal.html\n",
    "2. https://docs.python.org/3/library/fractions.html"
   ]
  },
  {
   "cell_type": "code",
   "execution_count": 13,
   "metadata": {},
   "outputs": [
    {
     "data": {
      "text/plain": [
       "(array([0.84147098, 0.84147098, 0.84147098, 0.84147098, 0.84147098,\n",
       "        0.84147098, 0.84147098, 0.84147098, 0.84147098, 0.84147098]),\n",
       " dtype('float64'))"
      ]
     },
     "execution_count": 13,
     "metadata": {},
     "output_type": "execute_result"
    }
   ],
   "source": [
    "import math\n",
    "test_array3 = np.vectorize(math.sin)(test_array2)\n",
    "test_array3, test_array3.dtype"
   ]
  },
  {
   "cell_type": "markdown",
   "metadata": {},
   "source": [
    "Для реализации тех же тригонометрических функций для `Decimal` даже [официальная документация](https://docs.python.org/3/library/decimal.html#recipes) предлагает использовать самописные функции, например такие:"
   ]
  },
  {
   "cell_type": "code",
   "execution_count": 14,
   "metadata": {},
   "outputs": [],
   "source": [
    "def cos(x):\n",
    "    \"\"\"Return the cosine of x as measured in radians.\n",
    "\n",
    "    The Taylor series approximation works best for a small value of x.\n",
    "    For larger values, first compute x = x % (2 * pi).\n",
    "\n",
    "    >>> print(cos(Decimal('0.5')))\n",
    "    0.8775825618903727161162815826\n",
    "    >>> print(cos(0.5))\n",
    "    0.87758256189\n",
    "    >>> print(cos(0.5+0j))\n",
    "    (0.87758256189+0j)\n",
    "\n",
    "    \"\"\"\n",
    "    getcontext().prec += 2\n",
    "    i, lasts, s, fact, num, sign = 0, 0, 1, 1, 1, 1\n",
    "    while s != lasts:\n",
    "        lasts = s\n",
    "        i += 2\n",
    "        fact *= i * (i-1)\n",
    "        num *= x * x\n",
    "        sign *= -1\n",
    "        s += num / fact * sign\n",
    "    getcontext().prec -= 2\n",
    "    return +s"
   ]
  },
  {
   "cell_type": "markdown",
   "metadata": {},
   "source": [
    "Такие функции основаны на цикле `while` и работают гораздо медленнее аналогов для `float` из стандартной библиотеки или `numpy`"
   ]
  },
  {
   "cell_type": "code",
   "execution_count": 15,
   "metadata": {},
   "outputs": [
    {
     "name": "stdout",
     "output_type": "stream",
     "text": [
      "5.77 µs ± 475 ns per loop (mean ± std. dev. of 7 runs, 100,000 loops each)\n"
     ]
    }
   ],
   "source": [
    "a = Decimal('0.5')\n",
    "%timeit cos(a)"
   ]
  },
  {
   "cell_type": "code",
   "execution_count": 16,
   "metadata": {},
   "outputs": [
    {
     "name": "stdout",
     "output_type": "stream",
     "text": [
      "776 ns ± 7.54 ns per loop (mean ± std. dev. of 7 runs, 1,000,000 loops each)\n"
     ]
    }
   ],
   "source": [
    "%timeit np.sin(0.5)"
   ]
  },
  {
   "cell_type": "code",
   "execution_count": 17,
   "metadata": {},
   "outputs": [
    {
     "name": "stdout",
     "output_type": "stream",
     "text": [
      "140 ns ± 1.15 ns per loop (mean ± std. dev. of 7 runs, 10,000,000 loops each)\n"
     ]
    }
   ],
   "source": [
    "%timeit math.sin(0.5)"
   ]
  },
  {
   "cell_type": "markdown",
   "metadata": {},
   "source": [
    "Почему версия `numpy` медленнее? Потому что она оптимизирована для применения с массивами. Пример:"
   ]
  },
  {
   "cell_type": "code",
   "execution_count": 18,
   "metadata": {},
   "outputs": [
    {
     "name": "stdout",
     "output_type": "stream",
     "text": [
      "223 µs ± 4.47 µs per loop (mean ± std. dev. of 7 runs, 1,000 loops each)\n"
     ]
    }
   ],
   "source": [
    "%timeit [math.sin(x) for x in np.ones(1000)]"
   ]
  },
  {
   "cell_type": "code",
   "execution_count": 19,
   "metadata": {},
   "outputs": [
    {
     "name": "stdout",
     "output_type": "stream",
     "text": [
      "11.9 µs ± 85.3 ns per loop (mean ± std. dev. of 7 runs, 100,000 loops each)\n"
     ]
    }
   ],
   "source": [
    "%timeit np.sin(np.ones(1000))"
   ]
  }
 ],
 "metadata": {
  "kernelspec": {
   "display_name": "Python 3.10.6 ('quantum-lab')",
   "language": "python",
   "name": "python3"
  },
  "language_info": {
   "codemirror_mode": {
    "name": "ipython",
    "version": 3
   },
   "file_extension": ".py",
   "mimetype": "text/x-python",
   "name": "python",
   "nbconvert_exporter": "python",
   "pygments_lexer": "ipython3",
   "version": "3.10.6"
  },
  "orig_nbformat": 4,
  "vscode": {
   "interpreter": {
    "hash": "972914d3d2f98402ed50d00f30ed76f8dd5075b7fe7c9f2f323cbad88e45c10f"
   }
  }
 },
 "nbformat": 4,
 "nbformat_minor": 2
}
