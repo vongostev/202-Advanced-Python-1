{
 "cells": [
  {
   "cell_type": "code",
   "execution_count": 1,
   "id": "5ed1b484",
   "metadata": {},
   "outputs": [],
   "source": [
    "import numpy as np\n",
    "import matplotlib.pyplot as plt"
   ]
  },
  {
   "cell_type": "markdown",
   "id": "a910bf76",
   "metadata": {},
   "source": [
    "### Метод наименьших квадратов. Линейная аппроксимация\n",
    "\n",
    "Зададим зашумленный набор данных с изначально линейной зависимостью $y = kx + b$, а потом попытаемся восстановить коэффициенты этой зависимости."
   ]
  },
  {
   "cell_type": "code",
   "execution_count": 2,
   "id": "895512cc",
   "metadata": {},
   "outputs": [],
   "source": [
    "N = 20\n",
    "x = np.arange(N)\n",
    "y = 3 * x - 10 + 5 * np.random.normal(size=N)"
   ]
  },
  {
   "cell_type": "code",
   "execution_count": 3,
   "id": "f5e69f85",
   "metadata": {},
   "outputs": [
    {
     "data": {
      "text/plain": [
       "<matplotlib.collections.PathCollection at 0x1bcd16e8760>"
      ]
     },
     "execution_count": 3,
     "metadata": {},
     "output_type": "execute_result"
    },
    {
     "data": {
      "image/png": "[encoded data removed]",
      "text/plain": [
       "<Figure size 432x288 with 1 Axes>"
      ]
     },
     "metadata": {
      "needs_background": "light"
     },
     "output_type": "display_data"
    }
   ],
   "source": [
    "plt.scatter(x, y)"
   ]
  },
  {
   "cell_type": "markdown",
   "id": "6a42fb85",
   "metadata": {},
   "source": [
    "МНК для любых полиномов -- задача линейная, так как нам нужно найти коэффициенты при $x^n$, которые входят в полином линейно. То есть задачу можно представить в виде системы линейных уравнений. Сформируем матрицу $A$ для такой системы. У нас есть набор $N$ пар значений $\\{x_i, y_i\\}$ и два неизвестных коэффициента $k, b$, причем $y_i = x_i \\cdot k + 1 \\cdot b$. Тогда\n",
    "$$\n",
    "A = \\left(\\begin{array}{cc}\n",
    "x_0 & 1 \\\\\n",
    "x_1 & 1 \\\\\n",
    ". & . \\\\\n",
    ". & . \\\\\n",
    "x_N & 1\n",
    "\\end{array}\\right)\n",
    "$$"
   ]
  },
  {
   "cell_type": "code",
   "execution_count": 4,
   "id": "ae4ad6a3",
   "metadata": {},
   "outputs": [],
   "source": [
    "A = np.vstack((x, np.ones_like(x))).T"
   ]
  },
  {
   "cell_type": "markdown",
   "id": "e8cfd7c4",
   "metadata": {},
   "source": [
    "Матрица $A$ неквадратная, и число строк больше числа столбцов, значит система переопределена. Такие системы решаются с помощью псевдообратной матрицы (а также другими способами) $A^+=(A^TA)^{-1}A^T$. В `numpy` есть модуль `linalg` для операций с матрицами, в котором есть функция псевдообращения `pinv`."
   ]
  },
  {
   "cell_type": "code",
   "execution_count": 5,
   "id": "bcbdcc2e",
   "metadata": {},
   "outputs": [],
   "source": [
    "A_pinv_direct = np.linalg.inv(A.T.dot(A)).dot(A.T)\n",
    "A_pinv_np = np.linalg.pinv(A)"
   ]
  },
  {
   "cell_type": "markdown",
   "id": "7426ca25",
   "metadata": {},
   "source": [
    "Сравним результаты вычисления псевдообратной матрицы по явной формуле и по библиотечной:"
   ]
  },
  {
   "cell_type": "code",
   "execution_count": 6,
   "id": "036a93ca",
   "metadata": {},
   "outputs": [
    {
     "data": {
      "text/plain": [
       "True"
      ]
     },
     "execution_count": 6,
     "metadata": {},
     "output_type": "execute_result"
    }
   ],
   "source": [
    "np.allclose(A_pinv_direct, A_pinv_np)"
   ]
  },
  {
   "cell_type": "markdown",
   "id": "9fb62a93",
   "metadata": {},
   "source": [
    "Решение системы записывается рчевидным образом: \n",
    "$$\n",
    "\\left(\n",
    "\\begin{array}{c}\n",
    "k \\\\\n",
    "b\n",
    "\\end{array}\n",
    "\\right) = A^+y\n",
    "$$"
   ]
  },
  {
   "cell_type": "code",
   "execution_count": 7,
   "id": "b90fb517",
   "metadata": {},
   "outputs": [
    {
     "data": {
      "text/plain": [
       "array([  3.28006163, -13.16888875])"
      ]
     },
     "execution_count": 7,
     "metadata": {},
     "output_type": "execute_result"
    }
   ],
   "source": [
    "A_pinv_direct.dot(y)"
   ]
  },
  {
   "cell_type": "markdown",
   "id": "cea38165",
   "metadata": {},
   "source": [
    "Также для решения задачи можно воспользоваться библиотечной функцией `np.linalg.lstsq`"
   ]
  },
  {
   "cell_type": "code",
   "execution_count": 8,
   "id": "f35dc500",
   "metadata": {},
   "outputs": [
    {
     "name": "stderr",
     "output_type": "stream",
     "text": [
      "<ipython-input-8-da1271bb9971>:1: FutureWarning: `rcond` parameter will change to the default of machine precision times ``max(M, N)`` where M and N are the input matrix dimensions.\n",
      "To use the future default and silence this warning we advise to pass `rcond=None`, to keep using the old, explicitly pass `rcond=-1`.\n",
      "  k, b = np.linalg.lstsq(A, y)[0]\n"
     ]
    }
   ],
   "source": [
    "k, b = np.linalg.lstsq(A, y)[0]"
   ]
  },
  {
   "cell_type": "markdown",
   "id": "c3933c5c",
   "metadata": {},
   "source": [
    "Выведем результаты вычислений на график"
   ]
  },
  {
   "cell_type": "code",
   "execution_count": 12,
   "id": "6a97d038",
   "metadata": {},
   "outputs": [
    {
     "data": {
      "text/plain": [
       "<matplotlib.legend.Legend at 0x1bcd215ae80>"
      ]
     },
     "execution_count": 12,
     "metadata": {},
     "output_type": "execute_result"
    },
    {
     "data": {
      "image/png": "[encoded data removed]",
      "text/plain": [
       "<Figure size 432x288 with 1 Axes>"
      ]
     },
     "metadata": {
      "needs_background": "light"
     },
     "output_type": "display_data"
    }
   ],
   "source": [
    "plt.scatter(x, y, label='Exp. data')\n",
    "plt.plot(x, k * x + b, color='r', label='Lin. fit')\n",
    "plt.xlabel('x', fontsize=14)\n",
    "plt.ylabel('y', fontsize=14, rotation=0)\n",
    "plt.legend(frameon=0)"
   ]
  }
 ],
 "metadata": {
  "kernelspec": {
   "display_name": "Python 3 (ipykernel)",
   "language": "python",
   "name": "python3"
  },
  "language_info": {
   "codemirror_mode": {
    "name": "ipython",
    "version": 3
   },
   "file_extension": ".py",
   "mimetype": "text/x-python",
   "name": "python",
   "nbconvert_exporter": "python",
   "pygments_lexer": "ipython3",
   "version": "3.9.2"
  }
 },
 "nbformat": 4,
 "nbformat_minor": 5
}
