{
 "cells": [
  {
   "cell_type": "code",
   "execution_count": 81,
   "id": "3d9a7a92",
   "metadata": {},
   "outputs": [],
   "source": [
    "# задача 1\n",
    "def is_even (x) :\n",
    "    if x < 0 :\n",
    "        print(\"отрицательное значение\")\n",
    "    return x % 2 == 0 "
   ]
  },
  {
   "cell_type": "code",
   "execution_count": 88,
   "id": "446ec13a",
   "metadata": {},
   "outputs": [],
   "source": [
    "# задача 2\n",
    "def generate_squares(min_num, max_num):\n",
    "    resl = []\n",
    "    for x in range(min_num, max_num + 1):\n",
    "        resl.append(x ** 2)\n",
    "    return resl"
   ]
  },
  {
   "cell_type": "code",
   "execution_count": 89,
   "id": "d51906fb",
   "metadata": {},
   "outputs": [],
   "source": [
    "# задача 3\n",
    "def split_list(unsorted_list):\n",
    "    for resl in range(unsorted_list.count(0)):\n",
    "        unsorted_list.remove(0)\n",
    "    return unsorted_list"
   ]
  },
  {
   "cell_type": "code",
   "execution_count": 90,
   "id": "9736011e",
   "metadata": {},
   "outputs": [],
   "source": [
    "# задача 4\n",
    "def make_dict(some_list):\n",
    "    l_num, l_str = [], []\n",
    "    for i in range(len(some_list)):\n",
    "        if isinstance(some_list[i], str):\n",
    "            l_str.append([some_list[i], len(some_list[i])])\n",
    "        else:\n",
    "            l_num.append(some_list[i])\n",
    "    return {'str': l_str, 'num': l_num}"
   ]
  },
  {
   "cell_type": "code",
   "execution_count": 91,
   "id": "ab2f1b3a",
   "metadata": {},
   "outputs": [],
   "source": [
    "# задача 5\n",
    "class Vector2D:\n",
    "    def __init__(self, x=0, y=0):\n",
    "        self.x = x\n",
    "        self.y = y\n",
    "\n",
    "    def norm(self):\n",
    "        return (self.x ** 2 + self.y ** 2) ** (1/2)\n",
    "\n",
    "    def __str__(self):\n",
    "        return '{' + str(self.x) + ';' + str(self.y) + '}'\n",
    "\n",
    "    def __lt__(self, other):\n",
    "        return self.norm() < other.norm()\n",
    "\n",
    "    def __le__(self, other):\n",
    "        return self.norm() <= other.norm()\n",
    "\n",
    "    def __eq__(self, other):\n",
    "        return self.x == other.x and self.y == other.y\n",
    "\n",
    "    def __ne__(self, other):\n",
    "        return not self == other\n",
    "\n",
    "    def __gt__(self, other):\n",
    "        return not self <= other\n",
    "\n",
    "    def __ge__(self, other):\n",
    "        return not self < other\n",
    "\n",
    "    def __add__(self, other):\n",
    "        return Vector2D(self.x + other.x, self.y + other.y)\n",
    "\n",
    "    def __sub__(self, other):\n",
    "        return Vector2D(self.x - other.x, self.y - other.y)\n",
    "\n",
    "    def __mul__(self, number):\n",
    "        return Vector2D(self.x * number, self.y * number)\n",
    "\n",
    "    def __rmul__(self, number):\n",
    "        return Vector2D(self.x * number, self.y * number)"
   ]
  },
  {
   "cell_type": "code",
   "execution_count": 93,
   "id": "4daa063f",
   "metadata": {},
   "outputs": [
    {
     "name": "stdout",
     "output_type": "stream",
     "text": [
      "отрицательное значение\n",
      "отрицательное значение\n",
      "Tests for task 1 passed\n",
      "Tests for task 2 passed\n",
      "Tests for task 3 passed\n",
      "Tests for task 4 passed\n",
      "Tests for task 5 passed\n"
     ]
    }
   ],
   "source": [
    "if __name__ == \"__main__\":\n",
    "# Tests\n",
    "    # 1\n",
    "    assert is_even(-240) is True\n",
    "    assert is_even(-17) is False\n",
    "    assert is_even(0) is True\n",
    "    assert is_even(12) is True\n",
    "    assert is_even(131) is False\n",
    "    print(\"Tests for task 1 passed\")\n",
    "    \n",
    "    # 2\n",
    "    assert generate_squares(1, 10) == [1, 4, 9, 16, 25, 36, 49, 64, 81, 100]\n",
    "    assert generate_squares(3, 1) == []\n",
    "    assert generate_squares(786, 786) == [786 ** 2]\n",
    "    assert generate_squares(-12, -8) == [144, 121, 100, 81, 64]\n",
    "    assert generate_squares(-3, 1) == [9, 4, 1, 0, 1]\n",
    "    print(\"Tests for task 2 passed\")\n",
    "\n",
    "    # 3\n",
    "    assert split_list([1, 0, 2, 0, 3, 4, 0]) == [1, 2, 3, 4]\n",
    "    assert split_list([]) == []\n",
    "    assert split_list([10, 11, 14, 17]) == [10, 11, 14, 17]\n",
    "    assert split_list([0, 0, 0, 0, 0]) == []\n",
    "    assert split_list([0, 0, 0, 123, 0]) == [123]\n",
    "    print(\"Tests for task 3 passed\")\n",
    "\n",
    "    # 4\n",
    "    assert make_dict([1, 2, 3]) == {'str': [], 'num': [1, 2, 3]}\n",
    "    assert make_dict([]) == {'str': [], 'num': []}\n",
    "    assert make_dict(['1', 2, '123', 123, 123, 'asd', '1', 2]) == {'str': [['1', 1], ['123', 3], ['asd', 3], ['1', 1]], 'num': [2, 123, 123, 2]}\n",
    "    print('Tests for task 4 passed')\n",
    "\n",
    "    # 5\n",
    "    a = Vector2D()\n",
    "    b = Vector2D(3, -4)\n",
    "    assert a.norm() == 0\n",
    "    assert b.norm() == 5\n",
    "    assert str(Vector2D()) == '{0;0}'\n",
    "    assert str(Vector2D(-6, 4)) == '{-6;4}'\n",
    "    #print (Vector2D ())\n",
    "    #print (Vector2D (-6, 4))\n",
    "\n",
    "    assert Vector2D(1, 2) >= Vector2D(1, 2)\n",
    "    assert Vector2D(1, 1) <= Vector2D(1, 2)\n",
    "    assert Vector2D(-3, 6) == Vector2D(-3, 6)\n",
    "    assert Vector2D(-3, 6) != Vector2D(6, -3)\n",
    "\n",
    "    assert Vector2D() + Vector2D(1, 2) == Vector2D(1, 2)\n",
    "    assert Vector2D(1, 4) - b == Vector2D(-2, 8)\n",
    "    assert Vector2D(-2, 8) * 2 == Vector2D(-4, 16)\n",
    "    assert 3 * Vector2D(4, -1) == Vector2D(12, -3)\n",
    "    print('Tests for task 5 passed')"
   ]
  }
 ],
 "metadata": {
  "kernelspec": {
   "display_name": "Python 3 (ipykernel)",
   "language": "python",
   "name": "python3"
  },
  "language_info": {
   "codemirror_mode": {
    "name": "ipython",
    "version": 3
   },
   "file_extension": ".py",
   "mimetype": "text/x-python",
   "name": "python",
   "nbconvert_exporter": "python",
   "pygments_lexer": "ipython3",
   "version": "3.10.0"
  }
 },
 "nbformat": 4,
 "nbformat_minor": 5
}
