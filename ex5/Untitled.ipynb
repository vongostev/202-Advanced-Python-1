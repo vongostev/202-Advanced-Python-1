{
 "cells": [
  {
   "cell_type": "markdown",
   "id": "e00486bc",
   "metadata": {},
   "source": [
    "## Обработка Задчачи №336\n",
    "\n",
    "Суть задачи:\n",
    "В эксперементе мы проверяем зависимость ЭДС индукции в разных катушках при: \n",
    "\n",
    "$$\\frac{d\\Phi}{dt} =const$$\n"
   ]
  },
  {
   "cell_type": "markdown",
   "id": "137a8650",
   "metadata": {},
   "source": [
    "Поле создаётся при помощи большого соленоида, параметры которого известны"
   ]
  },
  {
   "cell_type": "markdown",
   "id": "38146822",
   "metadata": {},
   "source": [
    "### Функция считывания таблиц из файла нам понадобится целых 4 раза - поэтому я её и выделил в отдельную функцию:"
   ]
  },
  {
   "cell_type": "code",
   "execution_count": 1,
   "id": "091b6db0",
   "metadata": {},
   "outputs": [],
   "source": [
    "import numpy as np\n",
    "import matplotlib.pyplot as plt\n",
    "\n",
    "def read_data(file_path):\n",
    "    file = open(file_path, 'r')\n",
    "     \n",
    "    data = {}\n",
    "    heads = []\n",
    "     \n",
    "    for head in file.readline().rstrip('\\n').split(\"\\t\"):\n",
    "         #print(head)\n",
    "         heads.append(head)\n",
    "         data.update({head : []})\n",
    "    \n",
    "    for i in range(0, len(heads)):\n",
    "            data[heads[i]] = []\n",
    "    \n",
    "    for line in file:\n",
    "        vals = line.split(\"\\t\")\n",
    "        for i in range(0, len(vals)):\n",
    "            #print(vals[i])\n",
    "            data[heads[i]].append(float(vals[i]))\n",
    "            \n",
    "    return data\n",
    "    \n",
    "    file.close()"
   ]
  },
  {
   "cell_type": "markdown",
   "id": "0daa9091",
   "metadata": {},
   "source": [
    "read_data организует текстовый документ в словарь так, что первая строчка является набором ключей этого словаря"
   ]
  },
  {
   "cell_type": "markdown",
   "id": "391c1962",
   "metadata": {},
   "source": [
    "### Теперь считаем данные катушек, они нам понадобятся во всех упражнениях:"
   ]
  },
  {
   "cell_type": "code",
   "execution_count": 2,
   "id": "2cb55b55",
   "metadata": {
    "scrolled": true
   },
   "outputs": [
    {
     "name": "stdout",
     "output_type": "stream",
     "text": [
      "No\t[1.0, 2.0, 3.0, 4.0, 5.0]\n",
      "D\t[100.0, 80.0, 80.0, 80.0, 50.0]\n",
      "N\t[250.0, 250.0, 350.0, 150.0, 250.0]\n"
     ]
    }
   ],
   "source": [
    "coils_data = read_data(\"Data\\coils.txt\")\n",
    "keys = coils_data.keys()\n",
    "for key in keys:\n",
    "    print(key, end=\"\\t\")\n",
    "    print(coils_data[key])"
   ]
  },
  {
   "cell_type": "markdown",
   "id": "fda29eb3",
   "metadata": {},
   "source": [
    "### А также сразу считаем данные для остальных упражнений"
   ]
  },
  {
   "cell_type": "code",
   "execution_count": 3,
   "id": "c0f6c778",
   "metadata": {
    "scrolled": true
   },
   "outputs": [
    {
     "name": "stdout",
     "output_type": "stream",
     "text": [
      "No\t[5.0, 2.0, 1.0]\n",
      "D\t[50.0, 80.0, 100.0]\n",
      "dD\t[5.0, 5.0, 5.0]\n",
      "E(300)\t[63.0, 141.0, 253.0]\n",
      "E(500)\t[106.0, 231.0, 412.0]\n",
      "E(800)\t[172.0, 366.0, 656.0]\n"
     ]
    }
   ],
   "source": [
    "ex1_data = read_data(\"Data\\ex1.txt\")\n",
    "keys = ex1_data.keys()\n",
    "for key in keys:\n",
    "    print(key, end=\"\\t\")\n",
    "    print(ex1_data[key])"
   ]
  },
  {
   "cell_type": "code",
   "execution_count": 4,
   "id": "88d79565",
   "metadata": {},
   "outputs": [
    {
     "name": "stdout",
     "output_type": "stream",
     "text": [
      "No\t[4.0, 2.0, 3.0]\n",
      "N\t[150.0, 250.0, 350.0]\n",
      "E(300)\t[96.0, 140.0, 181.0]\n",
      "E(500)\t[160.0, 231.0, 300.0]\n",
      "E(800)\t[252.0, 369.0, 460.0]\n"
     ]
    }
   ],
   "source": [
    "ex2_data = read_data(\"Data\\ex2.txt\")\n",
    "keys = ex2_data.keys()\n",
    "for key in keys:\n",
    "    print(key, end=\"\\t\")\n",
    "    print(ex2_data[key])"
   ]
  },
  {
   "cell_type": "code",
   "execution_count": 5,
   "id": "4381d90b",
   "metadata": {},
   "outputs": [
    {
     "name": "stdout",
     "output_type": "stream",
     "text": [
      "f\t[100.0, 200.0, 300.0, 400.0, 500.0, 600.0, 700.0, 800.0, 900.0, 1000.0]\n",
      "I`\t[180.9, 360.0, 537.3, 712.9, 867.5, 1043.5, 1220.3, 1392.6, 1578.9, 1739.1]\n",
      "N1E\t[81.0, 163.0, 256.0, 337.0, 412.0, 497.0, 581.0, 647.0, 741.0, 806.0]\n",
      "N2E\t[44.0, 80.0, 138.0, 188.0, 231.0, 278.0, 325.0, 366.0, 412.0, 450.0]\n",
      "N3E\t[50.0, 113.0, 181.0, 241.0, 300.0, 359.0, 412.0, 459.0, 506.0, 563.0]\n",
      "N4E\t[30.0, 50.0, 94.0, 125.0, 156.0, 188.0, 219.0, 244.0, 272.0, 300.0]\n",
      "N5E\t[20.0, 32.0, 66.0, 88.0, 110.0, 128.0, 150.0, 172.0, 191.0, 213.0]\n",
      "\t[]\n"
     ]
    }
   ],
   "source": [
    "ex3_data = read_data(\"Data\\ex3.txt\")\n",
    "keys = ex3_data.keys()\n",
    "for key in keys:\n",
    "    print(key, end=\"\\t\")\n",
    "    print(ex3_data[key])"
   ]
  },
  {
   "cell_type": "markdown",
   "id": "b2166139",
   "metadata": {},
   "source": [
    "### Обработка первого упражнения\n",
    "\n",
    "Построить зависимость $E, мВ$ от площади $S$ катушки при разных частотах"
   ]
  },
  {
   "cell_type": "markdown",
   "id": "f0322675",
   "metadata": {},
   "source": [
    "Вычисляем и добавляем в словарь погрешности измерения $E$"
   ]
  },
  {
   "cell_type": "code",
   "execution_count": 6,
   "id": "4066e9cb",
   "metadata": {},
   "outputs": [],
   "source": [
    "ex1_data.update({\"dE(300)\" : []})\n",
    "ex1_data.update({\"dE(500)\" : []})\n",
    "ex1_data.update({\"dE(800)\" : []})\n",
    "\n",
    "for val in ex1_data[\"E(300)\"]:\n",
    "    ex1_data[\"dE(300)\"].append( np.sqrt(9 + (0.05*val)*(0.05*val)) )\n",
    "        \n",
    "for val in ex1_data[\"E(500)\"]:\n",
    "    ex1_data[\"dE(500)\"].append( np.sqrt(9 + (0.05*val)*(0.05*val)) )\n",
    "        \n",
    "for val in ex1_data[\"E(800)\"]:\n",
    "    ex1_data[\"dE(800)\"].append( np.sqrt(9 + (0.05*val)*(0.05*val)) )"
   ]
  },
  {
   "cell_type": "markdown",
   "id": "9772e52d",
   "metadata": {},
   "source": [
    "Пересчитываем $D$ в $S$"
   ]
  },
  {
   "cell_type": "code",
   "execution_count": 7,
   "id": "c5e3f958",
   "metadata": {},
   "outputs": [],
   "source": [
    "ex1_data.update({\"S\" : []})\n",
    "ex1_data.update({\"dS\" : []})\n",
    "    \n",
    "for i in range(0, len(ex1_data[\"D\"])):\n",
    "    val = ex1_data[\"D\"][i]\n",
    "    dval = ex1_data[\"dD\"][i]\n",
    "    ex1_data[\"S\"].append( 0.25 * np.pi * val * val )\n",
    "    ex1_data[\"dS\"].append( 0.5 * np.pi * val * dval )"
   ]
  },
  {
   "cell_type": "markdown",
   "id": "d79bb861",
   "metadata": {},
   "source": [
    "Теперь создадим две функции:\n",
    "Для записи в файл и Для построения и сохранения графиков"
   ]
  },
  {
   "cell_type": "code",
   "execution_count": 8,
   "id": "56fcdc2e",
   "metadata": {},
   "outputs": [],
   "source": [
    "def to_file(file_path, keys, dic):\n",
    "    file = open(file_path, \"w\")\n",
    "    \n",
    "    for key in keys:\n",
    "        file.write(str(key) + \"\\t\")\n",
    "    file.write(\"\\n\")\n",
    "    \n",
    "    for i in range(0, len(dic[keys[0]])):\n",
    "        for key in keys:\n",
    "            file.write(str(dic[key][i]) + \"\\t\")\n",
    "        file.write(\"\\n\")   \n",
    "    \n",
    "    \n",
    "    \n",
    "    file.close()\n",
    "\n",
    "\n",
    "def plot(dic, x_key, y_keys, lables, titles, filename):\n",
    "    for i in range(0, len(y_keys)):\n",
    "        #plt.plot(dic[x_key], dic[y_keys[i]], 'o--', linewidth=0.8, fontsize=14, label='$r=1.3$')\n",
    "        plt.plot(dic[x_key], dic[y_keys[i]], 'o', linewidth=0.8, label=str(lables[i]))\n",
    "        \n",
    "    plt.xlabel(titles[0], fontsize=14)\n",
    "    plt.ylabel(titles[1], fontsize=14)\n",
    "    plt.title(titles[2], fontsize=12)\n",
    "    \n",
    "    plt.legend(loc=0, frameon=0, fontsize=8)\n",
    "    \n",
    "    plt.savefig(filename, dpi=300)\n",
    "    plt.show()"
   ]
  },
  {
   "cell_type": "markdown",
   "id": "3ab7512a",
   "metadata": {},
   "source": [
    "Воспользуемся этими функциями для сохранения результатов"
   ]
  },
  {
   "cell_type": "code",
   "execution_count": 9,
   "id": "5f7c8bd6",
   "metadata": {},
   "outputs": [
    {
     "data": {
      "image/png": "[encoded data removed]",
      "text/plain": [
       "<Figure size 432x288 with 1 Axes>"
      ]
     },
     "metadata": {
      "needs_background": "light"
     },
     "output_type": "display_data"
    }
   ],
   "source": [
    "to_file(\"Result\\ex1_res.txt\", [\"S\", \"dS\", \"E(300)\", \"dE(300)\", \"E(500)\", \"dE(500)\", \"E(800)\", \"dE(800)\"], ex1_data)\n",
    "plot(ex1_data, \"S\", [\"E(300)\", \"E(500)\", \"E(800)\"], [\"300 Гц\", \"400 Гц\", \"500 Гц\"], [\"$S, мм$\", \"$E, мВ$\", \"Зависимость Эдс индукции в катушки от её площади\"], \"Result\\ex1_gr1.pdf\")"
   ]
  },
  {
   "cell_type": "markdown",
   "id": "16d7ad92",
   "metadata": {},
   "source": [
    "Видно, что $E$ линейно зависит от $S$, при разных частотах. Это сходится с теорией."
   ]
  },
  {
   "cell_type": "markdown",
   "id": "e4d5e104",
   "metadata": {},
   "source": [
    "### Теперь перейдём ко второму упражнению\n",
    "Построить зависимость $E, мВ$ от площади $N$ катушки при разных частотах"
   ]
  },
  {
   "cell_type": "markdown",
   "id": "191dd06c",
   "metadata": {},
   "source": [
    "Делаем всё по аналогии..."
   ]
  },
  {
   "cell_type": "code",
   "execution_count": 10,
   "id": "a374dfc2",
   "metadata": {},
   "outputs": [
    {
     "data": {
      "image/png": "[encoded data removed]",
      "text/plain": [
       "<Figure size 432x288 with 1 Axes>"
      ]
     },
     "metadata": {
      "needs_background": "light"
     },
     "output_type": "display_data"
    }
   ],
   "source": [
    "ex2_data.update({\"dE(300)\" : []})\n",
    "ex2_data.update({\"dE(500)\" : []})\n",
    "ex2_data.update({\"dE(800)\" : []})\n",
    "    \n",
    "    \n",
    "for val in ex2_data[\"E(300)\"]:\n",
    "    ex2_data[\"dE(300)\"].append( np.sqrt(9 + (0.05*val)*(0.05*val)) )\n",
    "        \n",
    "for val in ex2_data[\"E(500)\"]:\n",
    "    ex2_data[\"dE(500)\"].append( np.sqrt(9 + (0.05*val)*(0.05*val)) )\n",
    "        \n",
    "for val in ex2_data[\"E(800)\"]:\n",
    "    ex2_data[\"dE(800)\"].append( np.sqrt(9 + (0.05*val)*(0.05*val)) )\n",
    "    \n",
    "    \n",
    "to_file(\"Result\\ex2_res.txt\", [\"N\", \"E(300)\", \"dE(300)\", \"E(500)\", \"dE(500)\", \"E(800)\", \"dE(800)\"], ex2_data)\n",
    "plot(ex2_data, \"N\", [\"E(300)\", \"E(500)\", \"E(800)\"], [\"300 Гц\", \"400 Гц\", \"500 Гц\"], [\"$N, шт$\", \"$E, мВ$\", \"Зависимость Эдс индукции в катушки от кол-ва витков\"], \"Result\\ex2_gr1.pdf\")"
   ]
  },
  {
   "cell_type": "markdown",
   "id": "8f656356",
   "metadata": {},
   "source": [
    "Опять видно прослеживается линейная зависимость, что сходится с теорией!"
   ]
  },
  {
   "cell_type": "markdown",
   "id": "af1d98a1",
   "metadata": {},
   "source": [
    "### Обработка 3-го упражнения\n",
    "\n",
    "В этом упражнении мы измеряем $E$ от частоты $f$ всех 5-ти катушек"
   ]
  },
  {
   "cell_type": "markdown",
   "id": "a08aa783",
   "metadata": {},
   "source": [
    "Первым делом расчитаем погрешности $dE$ для каждой катушки при каждой частоте:"
   ]
  },
  {
   "cell_type": "code",
   "execution_count": 11,
   "id": "dc18f884",
   "metadata": {},
   "outputs": [],
   "source": [
    "ex3_data.update({\"N1dE\" :[]})\n",
    "ex3_data.update({\"N2dE\" :[]})\n",
    "ex3_data.update({\"N3dE\" :[]})\n",
    "ex3_data.update({\"N4dE\" :[]})\n",
    "ex3_data.update({\"N5dE\" :[]})\n",
    "    \n",
    "    \n",
    "    \n",
    "for val in ex3_data[\"N1E\"]:\n",
    "    ex3_data[\"N1dE\"].append( np.sqrt(9 + (0.05*val)*(0.05*val)) )\n",
    "        \n",
    "for val in ex3_data[\"N2E\"]:\n",
    "    ex3_data[\"N2dE\"].append( np.sqrt(9 + (0.05*val)*(0.05*val)) )\n",
    "    \n",
    "for val in ex3_data[\"N3E\"]:\n",
    "    ex3_data[\"N3dE\"].append( np.sqrt(9 + (0.05*val)*(0.05*val)) )\n",
    "    \n",
    "for val in ex3_data[\"N4E\"]:\n",
    "    ex3_data[\"N4dE\"].append( np.sqrt(9 + (0.05*val)*(0.05*val)) )\n",
    "    \n",
    "for val in ex3_data[\"N5E\"]:\n",
    "    ex3_data[\"N5dE\"].append( np.sqrt(9 + (0.05*val)*(0.05*val)) )"
   ]
  },
  {
   "cell_type": "markdown",
   "id": "8fc463cd",
   "metadata": {},
   "source": [
    "Теперь составим вектора значений $X = f$ и векторов $Y_n = E_n$"
   ]
  },
  {
   "cell_type": "code",
   "execution_count": 12,
   "id": "69f4424e",
   "metadata": {},
   "outputs": [],
   "source": [
    "x_vec = np.array(ex3_data[\"f\"]).reshape(-1, 1)\n",
    "y_vecs = []\n",
    "    \n",
    "for i in range(1, 6):\n",
    "    y_vecs.append(np.array(ex3_data[str(\"N\" + str(i) + \"E\")]).reshape(-1, 1))"
   ]
  },
  {
   "cell_type": "markdown",
   "id": "06c1bb12",
   "metadata": {},
   "source": [
    "Импортируем необходимые ?библиотеки?"
   ]
  },
  {
   "cell_type": "code",
   "execution_count": 13,
   "id": "8a63e2dc",
   "metadata": {},
   "outputs": [],
   "source": [
    "from sklearn.linear_model import LinearRegression\n",
    "model = LinearRegression()"
   ]
  },
  {
   "cell_type": "markdown",
   "id": "2cb8ae3b",
   "metadata": {},
   "source": [
    "Создадим списки для кофициентов МНК и средне-квадратичного отклонения"
   ]
  },
  {
   "cell_type": "code",
   "execution_count": 14,
   "id": "40c9cae2",
   "metadata": {},
   "outputs": [],
   "source": [
    "    k = []\n",
    "    b = []\n",
    "    rsq = []"
   ]
  },
  {
   "cell_type": "markdown",
   "id": "cc5f005b",
   "metadata": {},
   "source": [
    "Вычисляем кофициенты МНК и средне-квадратичного отклонения"
   ]
  },
  {
   "cell_type": "code",
   "execution_count": 15,
   "id": "8014c3c5",
   "metadata": {
    "scrolled": true
   },
   "outputs": [],
   "source": [
    "    for i in range(0, 5):\n",
    "        model.fit(x_vec, y_vecs[i])\n",
    "        k.append(model.coef_[0][0])\n",
    "        b.append(model.intercept_[0])\n",
    "        \n",
    "    for i in range(0, 5):\n",
    "        rsq.append(float(0))\n",
    "        for q in range(0, len(x_vec)):\n",
    "            rsq[i] += ( (y_vecs[i][q] - (b[i] + k[i] * x_vec[q])) * (y_vecs[i][q] - (b[i] + k[i] * x_vec[q])) )[0]\n",
    "        rsq[i] /= (len(x_vec) - 1)\n",
    "        rsq[i] = np.sqrt(rsq[i])"
   ]
  },
  {
   "cell_type": "code",
   "execution_count": 16,
   "id": "ab8a8e38",
   "metadata": {
    "scrolled": true
   },
   "outputs": [
    {
     "name": "stdout",
     "output_type": "stream",
     "text": [
      "[0.8086666666666664, 0.45915151515151503, 0.5654545454545453, 0.30593939393939384, 0.21721212121212116]\n",
      "[7.333333333333485, -1.333333333333286, 7.400000000000034, -0.4666666666666117, -2.46666666666664]\n",
      "[6.903568588727087, 5.3020547443217305, 9.72884911233108, 5.104431295964204, 3.7651601528263017]\n"
     ]
    }
   ],
   "source": [
    "    print(k)\n",
    "    print(b)\n",
    "    print(rsq)"
   ]
  },
  {
   "cell_type": "markdown",
   "id": "e250b45c",
   "metadata": {},
   "source": [
    "Выведем полученные результаты в файл и как график"
   ]
  },
  {
   "cell_type": "code",
   "execution_count": 17,
   "id": "606fe58d",
   "metadata": {},
   "outputs": [
    {
     "data": {
      "image/png": "[encoded data removed]",
      "text/plain": [
       "<Figure size 432x288 with 1 Axes>"
      ]
     },
     "metadata": {
      "needs_background": "light"
     },
     "output_type": "display_data"
    }
   ],
   "source": [
    "    color_map = ['r', 'g', 'b', 'y', 'm']\n",
    "    \n",
    "    for i in range(0, 5):\n",
    "        plt.plot(x_vec, y_vecs[i], 'o', linewidth=0.8, c=color_map[i], label=str(\"№\" + str(i+1) + \": \" + str(coils_data[\"D\"][i]) + \"$мм$\" + \" \" + str(coils_data[\"N\"][i]) + \"$шт$\" + \" | k: \" + str(float(int(100*k[i]))/100.0) + \", b: \" + str(float(int(10*b[i]))/10.0) + \", R: \" + str(float(int(10*rsq[i]))/10.0) ))\n",
    "        plt.plot(x_vec, b[i] + k[i] * x_vec, '--', c=color_map[i], linewidth=0.8)\n",
    "    \n",
    "    \n",
    "    plt.xlabel(\"$F, Гц$\", fontsize=14)\n",
    "    plt.ylabel(\"$E, мВ$\", fontsize=14)\n",
    "    plt.title(\"Зависимость Эдс индукции в катушки от частоты у разных катушек\", fontsize=12)\n",
    "    \n",
    "    plt.legend(loc=0, frameon=0, fontsize=8)\n",
    "    \n",
    "    plt.savefig(\"Result\\ex3_gr1.pdf\", dpi=300)\n",
    "    plt.show()\n",
    "    \n",
    "    dic = {}\n",
    "    \n",
    "    dic.update({\"k\" : k})\n",
    "    dic.update({\"b\" : b})\n",
    "    dic.update({\"r\" : rsq})"
   ]
  },
  {
   "cell_type": "markdown",
   "id": "1395a52d",
   "metadata": {},
   "source": [
    "Кофициент наклона кривых МНК в теории должны зависить от $N$ и $S$ и зная как, можно расчитать теоритическое значение этих кофициентов. Далее именно это я и делаю и сравниваю их с полученными:"
   ]
  },
  {
   "cell_type": "code",
   "execution_count": 18,
   "id": "26f4a2d9",
   "metadata": {},
   "outputs": [
    {
     "name": "stdout",
     "output_type": "stream",
     "text": [
      "N=250.0 D=100.0\t : \t1.434535523414151 \t~\t 0.8086666666666664 \ttheory / experiment: 1.7739515953184066\n",
      "N=250.0 D=80.0\t : \t0.9181027349850565 \t~\t 0.45915151515151503 \ttheory / experiment: 1.9995637707567893\n",
      "N=350.0 D=80.0\t : \t1.285343828979079 \t~\t 0.5654545454545453 \ttheory / experiment: 2.273116096265253\n",
      "N=150.0 D=80.0\t : \t0.550861640991034 \t~\t 0.30593939393939384 \ttheory / experiment: 1.800558057914434\n",
      "N=250.0 D=50.0\t : \t0.35863388085353776 \t~\t 0.21721212121212116 \ttheory / experiment: 1.6510767394205843\n"
     ]
    }
   ],
   "source": [
    "    vs = []\n",
    "    tk = []\n",
    "    ttk = []\n",
    "    \n",
    "    for i in range(0, 5):\n",
    "        vs.append(0.25 * np.pi * coils_data[\"D\"][i] * coils_data[\"D\"][i])\n",
    "        tk.append( (4.0 * np.pi / 10000000) * vs[i] * 250 * coils_data[\"N\"][i] / 430 )\n",
    "        ttk.append(tk[i] / k[i])\n",
    "    \n",
    "    dic.update({\"vs\" : vs})\n",
    "    dic.update({\"tk\" : tk})\n",
    "    dic.update({\"ttk\" : ttk})\n",
    "    \n",
    "    to_file(\"Result\\ex4_res1.txt\", [\"r\", \"b\", \"k\", \"tk\", \"ttk\"], dic)\n",
    "    \n",
    "    for i in range(0, 5):\n",
    "        print( \"N=\" + str(coils_data[\"N\"][i]) + \" D=\" + str(coils_data[\"D\"][i]) + \"\\t : \\t\" + str(tk[i]) + \" \\t~\\t \" + str(k[i]) + \" \\ttheory / experiment: \" + str(tk[i]/k[i]) )"
   ]
  },
  {
   "cell_type": "markdown",
   "id": "d6c4c4ca",
   "metadata": {},
   "source": [
    "### Видно, что теория +- сходится с эксперементом."
   ]
  }
 ],
 "metadata": {
  "kernelspec": {
   "display_name": "Python 3",
   "language": "python",
   "name": "python3"
  },
  "language_info": {
   "codemirror_mode": {
    "name": "ipython",
    "version": 3
   },
   "file_extension": ".py",
   "mimetype": "text/x-python",
   "name": "python",
   "nbconvert_exporter": "python",
   "pygments_lexer": "ipython3",
   "version": "3.8.8"
  }
 },
 "nbformat": 4,
 "nbformat_minor": 5
}
